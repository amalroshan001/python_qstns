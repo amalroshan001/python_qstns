{
 "cells": [
  {
   "cell_type": "markdown",
   "id": "0e502ea7",
   "metadata": {},
   "source": [
    "### 1. Square Root"
   ]
  },
  {
   "cell_type": "code",
   "execution_count": 1,
   "id": "8b73cff1",
   "metadata": {},
   "outputs": [
    {
     "name": "stdout",
     "output_type": "stream",
     "text": [
      "Enter A Number : 5\n",
      "Square Root Is :  25\n"
     ]
    }
   ],
   "source": [
    "num=(int(input(\"Enter A Number : \")))\n",
    "sqrt=num**2\n",
    "print(\"Square Root Is : \",sqrt)"
   ]
  },
  {
   "cell_type": "markdown",
   "id": "b5d743d1",
   "metadata": {},
   "source": [
    "### 2. Area Of Triangle"
   ]
  },
  {
   "cell_type": "code",
   "execution_count": 2,
   "id": "9dbf9874",
   "metadata": {},
   "outputs": [
    {
     "name": "stdout",
     "output_type": "stream",
     "text": [
      "Enter The Height Of The Triangle : 8\n",
      "Enter The Base Of The Triangle : 5\n",
      "Area Of The Triangle is :  20.0\n"
     ]
    }
   ],
   "source": [
    "height=int(input(\"Enter The Height Of The Triangle : \"))\n",
    "base=int(input(\"Enter The Base Of The Triangle : \"))\n",
    "area=1/2*base*height\n",
    "print(\"Area Of The Triangle is : \",area)"
   ]
  },
  {
   "cell_type": "markdown",
   "id": "fd738fd7",
   "metadata": {},
   "source": [
    "### 3.   Odd Or Even"
   ]
  },
  {
   "cell_type": "code",
   "execution_count": 3,
   "id": "16828dd4",
   "metadata": {},
   "outputs": [
    {
     "name": "stdout",
     "output_type": "stream",
     "text": [
      "Enter A Number : 5\n",
      "Odd Number\n"
     ]
    }
   ],
   "source": [
    "num=int(input(\"Enter A Number : \"))\n",
    "if num%2==0:\n",
    "    print(\"Even Number\")\n",
    "else:\n",
    "    print(\"Odd Number\")"
   ]
  },
  {
   "cell_type": "markdown",
   "id": "76fa132b",
   "metadata": {},
   "source": [
    "### 4. Display Calendar"
   ]
  },
  {
   "cell_type": "code",
   "execution_count": 4,
   "id": "7b087b27",
   "metadata": {},
   "outputs": [],
   "source": [
    "import calendar"
   ]
  },
  {
   "cell_type": "code",
   "execution_count": 5,
   "id": "7d2b72fe",
   "metadata": {},
   "outputs": [
    {
     "name": "stdout",
     "output_type": "stream",
     "text": [
      "    October 2023\n",
      "Mo Tu We Th Fr Sa Su\n",
      "                   1\n",
      " 2  3  4  5  6  7  8\n",
      " 9 10 11 12 13 14 15\n",
      "16 17 18 19 20 21 22\n",
      "23 24 25 26 27 28 29\n",
      "30 31\n",
      "\n"
     ]
    }
   ],
   "source": [
    "print(calendar.month(2023,10))"
   ]
  },
  {
   "cell_type": "markdown",
   "id": "23afc5ac",
   "metadata": {},
   "source": [
    "### 5. Extension from the file name"
   ]
  },
  {
   "cell_type": "code",
   "execution_count": 6,
   "id": "d848ac2e",
   "metadata": {},
   "outputs": [
    {
     "name": "stdout",
     "output_type": "stream",
     "text": [
      "Enter Filename : example.txt\n",
      "Extension fo file is :  txt\n"
     ]
    }
   ],
   "source": [
    "filename=input(\"Enter Filename : \")\n",
    "extension=filename.split(\".\")\n",
    "ext=extension[-1]\n",
    "print(\"Extension fo file is : \",ext)"
   ]
  },
  {
   "cell_type": "markdown",
   "id": "78973001",
   "metadata": {},
   "source": [
    "### 6. To Find Vowels"
   ]
  },
  {
   "cell_type": "code",
   "execution_count": 7,
   "id": "dab5ef58",
   "metadata": {},
   "outputs": [
    {
     "name": "stdout",
     "output_type": "stream",
     "text": [
      "Enter A String : Amal Roshan\n",
      "Number Of Vowels is :  4\n"
     ]
    }
   ],
   "source": [
    "string=input(\"Enter A String : \")\n",
    "vowels=\"AEIOUaeiou\"\n",
    "count=0\n",
    "for i in string:\n",
    "    if i in vowels:\n",
    "        count=count+1\n",
    "print(\"Number Of Vowels is : \",count)"
   ]
  },
  {
   "cell_type": "markdown",
   "id": "2aaf74b1",
   "metadata": {},
   "source": [
    "### 7. Check Positive Negative Or Zero"
   ]
  },
  {
   "cell_type": "code",
   "execution_count": 8,
   "id": "398bb29f",
   "metadata": {},
   "outputs": [
    {
     "name": "stdout",
     "output_type": "stream",
     "text": [
      "Enter A Number : 0\n",
      "Its Zero\n"
     ]
    }
   ],
   "source": [
    "number=int(input(\"Enter A Number : \"))\n",
    "if number>0:\n",
    "    print(\"Postive Number\")\n",
    "elif number<0:\n",
    "    print(\"Negative Number\")\n",
    "else:\n",
    "    print(\"Its Zero\")"
   ]
  },
  {
   "cell_type": "markdown",
   "id": "9527bd18",
   "metadata": {},
   "source": [
    "### 8. Find Largest among Numbers"
   ]
  },
  {
   "cell_type": "code",
   "execution_count": 16,
   "id": "89ced750",
   "metadata": {},
   "outputs": [
    {
     "name": "stdout",
     "output_type": "stream",
     "text": [
      "Largest Number Is :  75\n"
     ]
    }
   ],
   "source": [
    "num1=14\n",
    "num2=35\n",
    "num3=75\n",
    "num4=24\n",
    "if (num1>=num2) and (num1>=num3) and (num1>=num4):\n",
    "    largest=num1\n",
    "elif (num2>=num1) and (num2>=num3) and(num2>=num4):\n",
    "    largest=num2\n",
    "elif (num3>=num1) and (num3>=num2) and (num3>=num4):\n",
    "    largest=num3\n",
    "else:\n",
    "    largest=num4\n",
    "print(\"Largest Number Is : \",largest)"
   ]
  },
  {
   "cell_type": "markdown",
   "id": "6bd45e99",
   "metadata": {},
   "source": [
    "### 9. Duplicate"
   ]
  },
  {
   "cell_type": "code",
   "execution_count": 11,
   "id": "25f1f589",
   "metadata": {},
   "outputs": [
    {
     "name": "stdout",
     "output_type": "stream",
     "text": [
      "[1, 2, 4, 6]\n"
     ]
    }
   ],
   "source": [
    "list_1 = [1, 2, 1, 4, 6]\n",
    "print(list(set(list_1)))"
   ]
  },
  {
   "cell_type": "markdown",
   "id": "5b44af5c",
   "metadata": {},
   "source": [
    "### 10. Last Element Of A List"
   ]
  },
  {
   "cell_type": "code",
   "execution_count": 12,
   "id": "54d68e02",
   "metadata": {},
   "outputs": [
    {
     "name": "stdout",
     "output_type": "stream",
     "text": [
      "e\n"
     ]
    }
   ],
   "source": [
    "my_List = ['a', 'b', 'c', 'd', 'e']\n",
    "print(my_List[-1])"
   ]
  },
  {
   "cell_type": "markdown",
   "id": "2c99d8ba",
   "metadata": {},
   "source": [
    "### 11. To Check A Key Is Present On a Dictionary"
   ]
  },
  {
   "cell_type": "code",
   "execution_count": 13,
   "id": "f857ba7b",
   "metadata": {},
   "outputs": [
    {
     "name": "stdout",
     "output_type": "stream",
     "text": [
      "present\n"
     ]
    }
   ],
   "source": [
    "elements= {1: 'a', 2: 'b', 3: 'c'}\n",
    "if 2 in elements:\n",
    "    print(\"present\")"
   ]
  },
  {
   "cell_type": "markdown",
   "id": "a4f42f75",
   "metadata": {},
   "source": [
    "### 12. Concateneate List"
   ]
  },
  {
   "cell_type": "code",
   "execution_count": 15,
   "id": "7572d5b5",
   "metadata": {},
   "outputs": [
    {
     "name": "stdout",
     "output_type": "stream",
     "text": [
      "[1, 'a', 2, 'b', 3, 'c']\n"
     ]
    }
   ],
   "source": [
    "list1 = [1, 'a']\n",
    "list2 = [2,'b']\n",
    "list3 = [3,'c']\n",
    "newlist = list1 + list2 + list3\n",
    "print(newlist)"
   ]
  },
  {
   "cell_type": "markdown",
   "id": "71c18de6",
   "metadata": {},
   "source": [
    "### 13. Swap Two Numbers"
   ]
  },
  {
   "cell_type": "code",
   "execution_count": 5,
   "id": "220b36c4",
   "metadata": {},
   "outputs": [
    {
     "name": "stdout",
     "output_type": "stream",
     "text": [
      "Enter Value Of a : 25\n",
      "Enter Value Of b : 15\n",
      "The value of a after swapping: 15\n",
      "The value of b after swapping: 25\n"
     ]
    }
   ],
   "source": [
    "a=int(input(\"Enter Value Of a : \"))\n",
    "b=int(input(\"Enter Value Of b : \"))\n",
    "\n",
    "swap=a\n",
    "a=b\n",
    "b=swap\n",
    "\n",
    "print('The value of a after swapping:',a)\n",
    "print('The value of b after swapping:',b)"
   ]
  },
  {
   "cell_type": "markdown",
   "id": "33acf04e",
   "metadata": {},
   "source": [
    "### 14. Multiplication Table"
   ]
  },
  {
   "cell_type": "code",
   "execution_count": 24,
   "id": "5dce6f1d",
   "metadata": {},
   "outputs": [
    {
     "name": "stdout",
     "output_type": "stream",
     "text": [
      "Display multiplication table of? 5\n",
      "5 x 1 = 5\n",
      "5 x 2 = 10\n",
      "5 x 3 = 15\n",
      "5 x 4 = 20\n",
      "5 x 5 = 25\n",
      "5 x 6 = 30\n",
      "5 x 7 = 35\n",
      "5 x 8 = 40\n",
      "5 x 9 = 45\n",
      "5 x 10 = 50\n"
     ]
    }
   ],
   "source": [
    "num = int(input(\"Display multiplication table of? \"))\n",
    "\n",
    "for i in range(1, 11):\n",
    "    print(num, 'x', i, '=', num*i)"
   ]
  },
  {
   "cell_type": "markdown",
   "id": "234d4771",
   "metadata": {},
   "source": [
    "### 15. Reverse User Name"
   ]
  },
  {
   "cell_type": "code",
   "execution_count": 25,
   "id": "8e122452",
   "metadata": {},
   "outputs": [
    {
     "name": "stdout",
     "output_type": "stream",
     "text": [
      "Enter Your First Name : Amal \n",
      "Enter Your Last Name : Roshan\n",
      "Roshan Amal \n"
     ]
    }
   ],
   "source": [
    "firstname=input(\"Enter Your First Name : \")\n",
    "lastname=input(\"Enter Your Last Name : \")\n",
    "print(lastname+\" \"+firstname)"
   ]
  },
  {
   "cell_type": "markdown",
   "id": "cce1b449",
   "metadata": {},
   "source": [
    "### 16.Sum Of 3 Given Numbers`, If Same 3 times The Value"
   ]
  },
  {
   "cell_type": "code",
   "execution_count": 27,
   "id": "32b99131",
   "metadata": {},
   "outputs": [],
   "source": [
    "def add(a,b,c):\n",
    "    if a==b==c:\n",
    "        return 3*(a+b+c)\n",
    "    else:\n",
    "        return(a+b+c)"
   ]
  },
  {
   "cell_type": "code",
   "execution_count": 28,
   "id": "eec33f0a",
   "metadata": {},
   "outputs": [
    {
     "data": {
      "text/plain": [
       "18"
      ]
     },
     "execution_count": 28,
     "metadata": {},
     "output_type": "execute_result"
    }
   ],
   "source": [
    "add(2,2,2)"
   ]
  },
  {
   "cell_type": "code",
   "execution_count": 29,
   "id": "f3d0f553",
   "metadata": {},
   "outputs": [
    {
     "data": {
      "text/plain": [
       "19"
      ]
     },
     "execution_count": 29,
     "metadata": {},
     "output_type": "execute_result"
    }
   ],
   "source": [
    "add(5,6,8)"
   ]
  },
  {
   "cell_type": "markdown",
   "id": "c6df5cf1",
   "metadata": {},
   "source": [
    "### 17. Volume Of Sphere "
   ]
  },
  {
   "cell_type": "code",
   "execution_count": 30,
   "id": "9d8fecd9",
   "metadata": {},
   "outputs": [
    {
     "name": "stdout",
     "output_type": "stream",
     "text": [
      "Enter Radius Of Sphere : 8\n",
      "Volume Of A Sphere is :  2143.5733333333333\n"
     ]
    }
   ],
   "source": [
    "r=int(input(\"Enter Radius Of Sphere : \" ))\n",
    "volume = 4/3*3.14*r**3\n",
    "print(\"Volume Of A Sphere is : \",volume)"
   ]
  },
  {
   "cell_type": "markdown",
   "id": "7c9693ca",
   "metadata": {},
   "source": [
    "### 18. Make A Unique List And Sample List (Unique Characters In Unique List)"
   ]
  },
  {
   "cell_type": "code",
   "execution_count": 31,
   "id": "5ee4bc77",
   "metadata": {},
   "outputs": [
    {
     "name": "stdout",
     "output_type": "stream",
     "text": [
      "Sample List :  [10, 20, 30, 20, 10, 50, 60, 40, 80, 50, 40]\n",
      "Unique List :  [10, 20, 30, 50, 60, 40, 80]\n"
     ]
    }
   ],
   "source": [
    "samp_list = [10, 20, 30, 20, 10, 50, 60, 40, 80, 50, 40]\n",
    "unique_list=[]\n",
    "for item in samp_list:\n",
    "    if item not in unique_list:\n",
    "        unique_list.append(item)\n",
    "print(\"Sample List : \",samp_list)\n",
    "print(\"Unique List : \",unique_list)"
   ]
  },
  {
   "cell_type": "markdown",
   "id": "7fc16396",
   "metadata": {},
   "source": [
    "### 19. Receive 3 parameters from user and to a task by using all those parameters"
   ]
  },
  {
   "cell_type": "code",
   "execution_count": 32,
   "id": "2b26c6e3",
   "metadata": {},
   "outputs": [
    {
     "name": "stdout",
     "output_type": "stream",
     "text": [
      "Enter Your Name : Amal Roshan\n",
      "Enter Your University : Calicut University\n",
      "Enter Your Year Of Graduation : 2023\n"
     ]
    },
    {
     "data": {
      "text/plain": [
       "'Hey Amal Roshan , you have completed degree in Calicut University on the year of 2023'"
      ]
     },
     "execution_count": 32,
     "metadata": {},
     "output_type": "execute_result"
    }
   ],
   "source": [
    "def wish(name,university,year):\n",
    "    name=input(\"Enter Your Name : \")\n",
    "    university=input(\"Enter Your University : \")\n",
    "    year=input(\"Enter Your Year Of Graduation : \")\n",
    "    return f\"Hey {name} , you have completed degree in {university} on the year of {year}\"\n",
    "wish(\"name\",\"university\",\"year\")"
   ]
  },
  {
   "cell_type": "markdown",
   "id": "b61b28b0",
   "metadata": {},
   "source": [
    "### 20. Find Names Using First Name Middle Name And Last Name"
   ]
  },
  {
   "cell_type": "code",
   "execution_count": 37,
   "id": "8f6cadf0",
   "metadata": {},
   "outputs": [
    {
     "data": {
      "text/plain": [
       "{'first': {'Hussain': ('Hussain Al Jassmi', 'Hussain Bin Kureshi')},\n",
       " 'middle': {'Al': 'Hussain Al Jassmi', 'Bin': 'Hussain Bin Kureshi'},\n",
       " 'last': {'Jassmi': 'Hussain Al Jassmi', 'Kureshi': 'Hussain Bin Kureshi'}}"
      ]
     },
     "execution_count": 37,
     "metadata": {},
     "output_type": "execute_result"
    }
   ],
   "source": [
    "storage={}\n",
    "storage['first']={}\n",
    "storage['middle']={}\n",
    "storage['last']={}\n",
    "\n",
    "p1 = 'Hussain Al Jassmi'\n",
    "p2= 'Hussain Bin Kureshi'\n",
    "storage['first']['Hussain']=p1,p2\n",
    "storage['middle']['Al']=p1\n",
    "storage['last']['Jassmi']=p1\n",
    "storage['first']['Hussain']=p1,p2\n",
    "storage['middle']['Bin']=p2\n",
    "storage['last']['Kureshi']=p2\n",
    "storage"
   ]
  },
  {
   "cell_type": "code",
   "execution_count": 38,
   "id": "015c9870",
   "metadata": {},
   "outputs": [
    {
     "data": {
      "text/plain": [
       "('Hussain Al Jassmi', 'Hussain Bin Kureshi')"
      ]
     },
     "execution_count": 38,
     "metadata": {},
     "output_type": "execute_result"
    }
   ],
   "source": [
    "storage['first']['Hussain']"
   ]
  },
  {
   "cell_type": "code",
   "execution_count": null,
   "id": "f066f23a",
   "metadata": {},
   "outputs": [],
   "source": []
  },
  {
   "cell_type": "markdown",
   "id": "a896957a",
   "metadata": {},
   "source": [
    "### 21. Leap Year"
   ]
  },
  {
   "cell_type": "code",
   "execution_count": 10,
   "id": "ea38febe",
   "metadata": {},
   "outputs": [
    {
     "name": "stdout",
     "output_type": "stream",
     "text": [
      "Enter A Year : 2018\n",
      "Its Not A Leap Year\n"
     ]
    }
   ],
   "source": [
    "import calendar\n",
    "year=int(input(\"Enter A Year : \"))\n",
    "leapyear=calendar.isleap(year)\n",
    "if leapyear:\n",
    "    print(\"Its A Leap Year\")\n",
    "else:\n",
    "    print(\"Its Not A Leap Year\")"
   ]
  },
  {
   "cell_type": "markdown",
   "id": "56546100",
   "metadata": {},
   "source": [
    "### 22. Calculator"
   ]
  },
  {
   "cell_type": "code",
   "execution_count": 5,
   "id": "fcf83b87",
   "metadata": {},
   "outputs": [
    {
     "name": "stdout",
     "output_type": "stream",
     "text": [
      "Enter Your Choice Between (1-4) :1\n",
      "Enter The First Number : 45\n",
      "Enter The Second Number : 15\n",
      "Result :  60\n",
      "Simple Calculator\n",
      "1. Addition\n",
      "2. Subtraction\n",
      "3. Multiplication\n",
      "4. Division\n"
     ]
    }
   ],
   "source": [
    "def add (x,y):\n",
    "    return x+y\n",
    "def subtract (x,y):\n",
    "    return x-y\n",
    "def multiply (x,y):\n",
    "    return x*y\n",
    "def divide (x,y):\n",
    "    if b !=0:\n",
    "        return x/y\n",
    "    else:\n",
    "        return \"Error: Cannot Divided By Zero\"\n",
    "def calculator():\n",
    "    print(\"Simple Calculator\")\n",
    "    print(\"1. Addition\")\n",
    "    print(\"2. Subtraction\")\n",
    "    print(\"3. Multiplication\")\n",
    "    print(\"4. Division\")\n",
    "    \n",
    "choice = float(input(\"Enter Your Choice Between (1-4) :\"))\n",
    "num1 = int(input(\"Enter The First Number : \"))\n",
    "num2 = int(input(\"Enter The Second Number : \"))\n",
    "\n",
    "if choice==1:\n",
    "    result = add(num1,num2)\n",
    "    print(\"Result : \",result)\n",
    "if choice==2:\n",
    "    result = subtract(num1,num2)\n",
    "    print(\"Result : \",result)\n",
    "if choice==3:\n",
    "    result = multiply(num1,num2)\n",
    "    print(\"Result : \",result)\n",
    "if choice==4:\n",
    "    result = divide(num1,num2)\n",
    "    print(\"Result : \",result)\n",
    "calculator()"
   ]
  },
  {
   "cell_type": "code",
   "execution_count": null,
   "id": "a96ded12",
   "metadata": {},
   "outputs": [],
   "source": []
  },
  {
   "cell_type": "code",
   "execution_count": null,
   "id": "64894b55",
   "metadata": {},
   "outputs": [],
   "source": []
  },
  {
   "cell_type": "code",
   "execution_count": null,
   "id": "3e6c7234",
   "metadata": {},
   "outputs": [],
   "source": []
  },
  {
   "cell_type": "code",
   "execution_count": null,
   "id": "d410e550",
   "metadata": {},
   "outputs": [],
   "source": []
  },
  {
   "cell_type": "markdown",
   "id": "609aa74c",
   "metadata": {},
   "source": [
    "# PATTERNS"
   ]
  },
  {
   "cell_type": "code",
   "execution_count": 9,
   "id": "1ce0e6a0",
   "metadata": {},
   "outputs": [
    {
     "name": "stdout",
     "output_type": "stream",
     "text": [
      " *\n",
      " * *\n",
      " * * *\n",
      " * * * *\n",
      " * * * * *\n",
      " * * * * * *\n"
     ]
    }
   ],
   "source": [
    "for i in range(6):\n",
    "    print(\" *\"*(i+1))"
   ]
  },
  {
   "cell_type": "code",
   "execution_count": 6,
   "id": "57e8f54d",
   "metadata": {},
   "outputs": [
    {
     "name": "stdout",
     "output_type": "stream",
     "text": [
      " * * * * * *\n",
      " * * * * *\n",
      " * * * *\n",
      " * * *\n",
      " * *\n",
      " *\n"
     ]
    }
   ],
   "source": [
    "for i in range(6,0,-1):\n",
    "    print(\" *\"*i)"
   ]
  },
  {
   "cell_type": "code",
   "execution_count": 7,
   "id": "46691547",
   "metadata": {},
   "outputs": [
    {
     "name": "stdout",
     "output_type": "stream",
     "text": [
      "Enter A Number : 10\n",
      "           *\n",
      "          * *\n",
      "         * * *\n",
      "        * * * *\n",
      "       * * * * *\n",
      "      * * * * * *\n",
      "     * * * * * * *\n",
      "    * * * * * * * *\n",
      "   * * * * * * * * *\n",
      "  * * * * * * * * * *\n"
     ]
    }
   ],
   "source": [
    "n=int(input(\"Enter A Number : \"))\n",
    "for i in range(1,n+1):\n",
    "    print(\" \"*(n-i),\" *\"* i)"
   ]
  },
  {
   "cell_type": "code",
   "execution_count": 13,
   "id": "d2462fd9",
   "metadata": {},
   "outputs": [
    {
     "name": "stdout",
     "output_type": "stream",
     "text": [
      "       *\n",
      "      * *\n",
      "     * * *\n",
      "    * * * *\n",
      "   * * * * *\n",
      "  * * * * * *\n"
     ]
    }
   ],
   "source": [
    "for i in range(1,7):\n",
    "    print(\" \"*(6-i),\" *\"* i)"
   ]
  },
  {
   "cell_type": "code",
   "execution_count": 5,
   "id": "1d75d431",
   "metadata": {
    "scrolled": true
   },
   "outputs": [
    {
     "name": "stdout",
     "output_type": "stream",
     "text": [
      "  * * * * * *\n",
      "   * * * * *\n",
      "    * * * *\n",
      "     * * *\n",
      "      * *\n",
      "       *\n"
     ]
    }
   ],
   "source": [
    "for i in range(6,0,-1):\n",
    "    print(\" \"*(6-i),\" *\"*i)"
   ]
  },
  {
   "cell_type": "code",
   "execution_count": null,
   "id": "691b35e4",
   "metadata": {},
   "outputs": [],
   "source": []
  },
  {
   "cell_type": "code",
   "execution_count": null,
   "id": "3051ff82",
   "metadata": {},
   "outputs": [],
   "source": []
  },
  {
   "cell_type": "code",
   "execution_count": 7,
   "id": "b3eaeb5a",
   "metadata": {},
   "outputs": [
    {
     "name": "stdout",
     "output_type": "stream",
     "text": [
      "       *\n",
      "      * *\n",
      "     * * *\n",
      "    * * * *\n",
      "   * * * * *\n",
      "  * * * * * *\n",
      "   * * * * *\n",
      "    * * * *\n",
      "     * * *\n",
      "      * *\n",
      "       *\n"
     ]
    }
   ],
   "source": [
    "for i in range(1,7):\n",
    "    print(\" \"*(6-i),\" *\"* i)\n",
    "for i in range(5,0,-1):\n",
    "    print(\" \"*(6-i),\" *\"*i)"
   ]
  },
  {
   "cell_type": "code",
   "execution_count": null,
   "id": "206dbddc",
   "metadata": {},
   "outputs": [],
   "source": []
  }
 ],
 "metadata": {
  "kernelspec": {
   "display_name": "Python 3 (ipykernel)",
   "language": "python",
   "name": "python3"
  },
  "language_info": {
   "codemirror_mode": {
    "name": "ipython",
    "version": 3
   },
   "file_extension": ".py",
   "mimetype": "text/x-python",
   "name": "python",
   "nbconvert_exporter": "python",
   "pygments_lexer": "ipython3",
   "version": "3.10.9"
  }
 },
 "nbformat": 4,
 "nbformat_minor": 5
}
